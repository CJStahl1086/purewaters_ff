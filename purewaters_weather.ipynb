{
 "cells": [
  {
   "cell_type": "code",
   "execution_count": 1,
   "id": "32051668",
   "metadata": {},
   "outputs": [],
   "source": [
    "import pandas as pd\n",
    "import seaborn as sns\n",
    "import matplotlib.pyplot as plt\n",
    "from datetime import datetime, timedelta\n",
    "from dataretrieval import nwis\n",
    "import requests\n",
    "import json"
   ]
  },
  {
   "cell_type": "code",
   "execution_count": 2,
   "id": "343b7f4a",
   "metadata": {},
   "outputs": [
    {
     "data": {
      "text/html": [
       "<div>\n",
       "<style scoped>\n",
       "    .dataframe tbody tr th:only-of-type {\n",
       "        vertical-align: middle;\n",
       "    }\n",
       "\n",
       "    .dataframe tbody tr th {\n",
       "        vertical-align: top;\n",
       "    }\n",
       "\n",
       "    .dataframe thead th {\n",
       "        text-align: right;\n",
       "    }\n",
       "</style>\n",
       "<table border=\"1\" class=\"dataframe\">\n",
       "  <thead>\n",
       "    <tr style=\"text-align: right;\">\n",
       "      <th></th>\n",
       "      <th>cod</th>\n",
       "      <th>message</th>\n",
       "      <th>cnt</th>\n",
       "      <th>list</th>\n",
       "      <th>city.id</th>\n",
       "      <th>city.name</th>\n",
       "      <th>city.coord</th>\n",
       "      <th>city.country</th>\n",
       "      <th>city.population</th>\n",
       "      <th>city.timezone</th>\n",
       "      <th>city.sunrise</th>\n",
       "      <th>city.sunset</th>\n",
       "    </tr>\n",
       "  </thead>\n",
       "  <tbody>\n",
       "    <tr>\n",
       "      <th>0</th>\n",
       "      <td>200</td>\n",
       "      <td>0</td>\n",
       "      <td>40</td>\n",
       "      <td>[{'dt': 1671300000, 'main': {'temp': 256.54, '...</td>\n",
       "      <td>2030570</td>\n",
       "      <td>Hongor</td>\n",
       "      <td>{'lat': 45.68, 'lon': 111.03}</td>\n",
       "      <td>MN</td>\n",
       "      <td>1000</td>\n",
       "      <td>28800</td>\n",
       "      <td>1671322298</td>\n",
       "      <td>1671353576</td>\n",
       "    </tr>\n",
       "  </tbody>\n",
       "</table>\n",
       "</div>"
      ],
      "text/plain": [
       "   cod  message  cnt                                               list  \\\n",
       "0  200        0   40  [{'dt': 1671300000, 'main': {'temp': 256.54, '...   \n",
       "\n",
       "   city.id city.name                     city.coord city.country  \\\n",
       "0  2030570    Hongor  {'lat': 45.68, 'lon': 111.03}           MN   \n",
       "\n",
       "   city.population  city.timezone  city.sunrise  city.sunset  \n",
       "0             1000          28800    1671322298   1671353576  "
      ]
     },
     "execution_count": 2,
     "metadata": {},
     "output_type": "execute_result"
    }
   ],
   "source": [
    "key = \n",
    "lat = '45.68'\n",
    "lon = '111.03'\n",
    "\n",
    "url = f'https://api.openweathermap.org/data/2.5/forecast?lat={lat}&lon={lon}&appid={key}'\n",
    "response = requests.get(url).json()\n",
    "data = pd.json_normalize(response, max_level=1)\n",
    "data"
   ]
  },
  {
   "cell_type": "code",
   "execution_count": 3,
   "id": "72978de4",
   "metadata": {},
   "outputs": [
    {
     "data": {
      "text/html": [
       "<div>\n",
       "<style scoped>\n",
       "    .dataframe tbody tr th:only-of-type {\n",
       "        vertical-align: middle;\n",
       "    }\n",
       "\n",
       "    .dataframe tbody tr th {\n",
       "        vertical-align: top;\n",
       "    }\n",
       "\n",
       "    .dataframe thead th {\n",
       "        text-align: right;\n",
       "    }\n",
       "</style>\n",
       "<table border=\"1\" class=\"dataframe\">\n",
       "  <thead>\n",
       "    <tr style=\"text-align: right;\">\n",
       "      <th></th>\n",
       "      <th>cod</th>\n",
       "      <th>message</th>\n",
       "      <th>cnt</th>\n",
       "      <th>list</th>\n",
       "      <th>city.id</th>\n",
       "      <th>city.name</th>\n",
       "      <th>city.coord</th>\n",
       "      <th>city.country</th>\n",
       "      <th>city.population</th>\n",
       "      <th>city.timezone</th>\n",
       "      <th>city.sunrise</th>\n",
       "      <th>city.sunset</th>\n",
       "    </tr>\n",
       "  </thead>\n",
       "  <tbody>\n",
       "    <tr>\n",
       "      <th>0</th>\n",
       "      <td>200</td>\n",
       "      <td>0</td>\n",
       "      <td>40</td>\n",
       "      <td>[{'dt': 1671300000, 'main': {'temp': 256.54, '...</td>\n",
       "      <td>2030570</td>\n",
       "      <td>Hongor</td>\n",
       "      <td>{'lat': 45.68, 'lon': 111.03}</td>\n",
       "      <td>MN</td>\n",
       "      <td>1000</td>\n",
       "      <td>28800</td>\n",
       "      <td>1671322298</td>\n",
       "      <td>1671353576</td>\n",
       "    </tr>\n",
       "  </tbody>\n",
       "</table>\n",
       "</div>"
      ],
      "text/plain": [
       "   cod  message  cnt                                               list  \\\n",
       "0  200        0   40  [{'dt': 1671300000, 'main': {'temp': 256.54, '...   \n",
       "\n",
       "   city.id city.name                     city.coord city.country  \\\n",
       "0  2030570    Hongor  {'lat': 45.68, 'lon': 111.03}           MN   \n",
       "\n",
       "   city.population  city.timezone  city.sunrise  city.sunset  \n",
       "0             1000          28800    1671322298   1671353576  "
      ]
     },
     "execution_count": 3,
     "metadata": {},
     "output_type": "execute_result"
    }
   ],
   "source": [
    "key = '279bd44a2424fa5fbb94b1aca0a2fd4e'\n",
    "lat = '45.68'\n",
    "lon = '111.03'\n",
    "\n",
    "url = f'https://api.openweathermap.org/data/2.5/forecast?lat={lat}&lon={lon}&appid={key}'\n",
    "response = requests.get(url).json()\n",
    "data = pd.json_normalize(response, max_level=1)\n",
    "data"
   ]
  },
  {
   "cell_type": "code",
   "execution_count": 18,
   "id": "7d2813e4",
   "metadata": {},
   "outputs": [
    {
     "data": {
      "text/html": [
       "<div>\n",
       "<style scoped>\n",
       "    .dataframe tbody tr th:only-of-type {\n",
       "        vertical-align: middle;\n",
       "    }\n",
       "\n",
       "    .dataframe tbody tr th {\n",
       "        vertical-align: top;\n",
       "    }\n",
       "\n",
       "    .dataframe thead th {\n",
       "        text-align: right;\n",
       "    }\n",
       "</style>\n",
       "<table border=\"1\" class=\"dataframe\">\n",
       "  <thead>\n",
       "    <tr style=\"text-align: right;\">\n",
       "      <th></th>\n",
       "      <th>cod</th>\n",
       "      <th>message</th>\n",
       "      <th>cnt</th>\n",
       "      <th>list</th>\n",
       "      <th>city.id</th>\n",
       "      <th>city.name</th>\n",
       "      <th>city.coord</th>\n",
       "      <th>city.country</th>\n",
       "      <th>city.population</th>\n",
       "      <th>city.timezone</th>\n",
       "      <th>city.sunrise</th>\n",
       "      <th>city.sunset</th>\n",
       "    </tr>\n",
       "  </thead>\n",
       "  <tbody>\n",
       "    <tr>\n",
       "      <th>0</th>\n",
       "      <td>200</td>\n",
       "      <td>0</td>\n",
       "      <td>40</td>\n",
       "      <td>{'dt': 1671300000, 'main': {'temp': 256.54, 'f...</td>\n",
       "      <td>2030570</td>\n",
       "      <td>Hongor</td>\n",
       "      <td>{'lat': 45.68, 'lon': 111.03}</td>\n",
       "      <td>MN</td>\n",
       "      <td>1000</td>\n",
       "      <td>28800</td>\n",
       "      <td>1671322298</td>\n",
       "      <td>1671353576</td>\n",
       "    </tr>\n",
       "    <tr>\n",
       "      <th>0</th>\n",
       "      <td>200</td>\n",
       "      <td>0</td>\n",
       "      <td>40</td>\n",
       "      <td>{'dt': 1671310800, 'main': {'temp': 256.31, 'f...</td>\n",
       "      <td>2030570</td>\n",
       "      <td>Hongor</td>\n",
       "      <td>{'lat': 45.68, 'lon': 111.03}</td>\n",
       "      <td>MN</td>\n",
       "      <td>1000</td>\n",
       "      <td>28800</td>\n",
       "      <td>1671322298</td>\n",
       "      <td>1671353576</td>\n",
       "    </tr>\n",
       "    <tr>\n",
       "      <th>0</th>\n",
       "      <td>200</td>\n",
       "      <td>0</td>\n",
       "      <td>40</td>\n",
       "      <td>{'dt': 1671321600, 'main': {'temp': 255.94, 'f...</td>\n",
       "      <td>2030570</td>\n",
       "      <td>Hongor</td>\n",
       "      <td>{'lat': 45.68, 'lon': 111.03}</td>\n",
       "      <td>MN</td>\n",
       "      <td>1000</td>\n",
       "      <td>28800</td>\n",
       "      <td>1671322298</td>\n",
       "      <td>1671353576</td>\n",
       "    </tr>\n",
       "    <tr>\n",
       "      <th>0</th>\n",
       "      <td>200</td>\n",
       "      <td>0</td>\n",
       "      <td>40</td>\n",
       "      <td>{'dt': 1671332400, 'main': {'temp': 260.02, 'f...</td>\n",
       "      <td>2030570</td>\n",
       "      <td>Hongor</td>\n",
       "      <td>{'lat': 45.68, 'lon': 111.03}</td>\n",
       "      <td>MN</td>\n",
       "      <td>1000</td>\n",
       "      <td>28800</td>\n",
       "      <td>1671322298</td>\n",
       "      <td>1671353576</td>\n",
       "    </tr>\n",
       "    <tr>\n",
       "      <th>0</th>\n",
       "      <td>200</td>\n",
       "      <td>0</td>\n",
       "      <td>40</td>\n",
       "      <td>{'dt': 1671343200, 'main': {'temp': 261.79, 'f...</td>\n",
       "      <td>2030570</td>\n",
       "      <td>Hongor</td>\n",
       "      <td>{'lat': 45.68, 'lon': 111.03}</td>\n",
       "      <td>MN</td>\n",
       "      <td>1000</td>\n",
       "      <td>28800</td>\n",
       "      <td>1671322298</td>\n",
       "      <td>1671353576</td>\n",
       "    </tr>\n",
       "  </tbody>\n",
       "</table>\n",
       "</div>"
      ],
      "text/plain": [
       "   cod  message  cnt                                               list  \\\n",
       "0  200        0   40  {'dt': 1671300000, 'main': {'temp': 256.54, 'f...   \n",
       "0  200        0   40  {'dt': 1671310800, 'main': {'temp': 256.31, 'f...   \n",
       "0  200        0   40  {'dt': 1671321600, 'main': {'temp': 255.94, 'f...   \n",
       "0  200        0   40  {'dt': 1671332400, 'main': {'temp': 260.02, 'f...   \n",
       "0  200        0   40  {'dt': 1671343200, 'main': {'temp': 261.79, 'f...   \n",
       "\n",
       "   city.id city.name                     city.coord city.country  \\\n",
       "0  2030570    Hongor  {'lat': 45.68, 'lon': 111.03}           MN   \n",
       "0  2030570    Hongor  {'lat': 45.68, 'lon': 111.03}           MN   \n",
       "0  2030570    Hongor  {'lat': 45.68, 'lon': 111.03}           MN   \n",
       "0  2030570    Hongor  {'lat': 45.68, 'lon': 111.03}           MN   \n",
       "0  2030570    Hongor  {'lat': 45.68, 'lon': 111.03}           MN   \n",
       "\n",
       "   city.population  city.timezone  city.sunrise  city.sunset  \n",
       "0             1000          28800    1671322298   1671353576  \n",
       "0             1000          28800    1671322298   1671353576  \n",
       "0             1000          28800    1671322298   1671353576  \n",
       "0             1000          28800    1671322298   1671353576  \n",
       "0             1000          28800    1671322298   1671353576  "
      ]
     },
     "execution_count": 18,
     "metadata": {},
     "output_type": "execute_result"
    }
   ],
   "source": [
    "hope = data.explode('list')\n",
    "hope.head(5)"
   ]
  },
  {
   "cell_type": "code",
   "execution_count": 19,
   "id": "3578a9f3",
   "metadata": {},
   "outputs": [
    {
     "data": {
      "text/plain": [
       "{'dt': 1671300000,\n",
       " 'main': {'temp': 256.54,\n",
       "  'feels_like': 249.54,\n",
       "  'temp_min': 256.54,\n",
       "  'temp_max': 256.54,\n",
       "  'pressure': 1029,\n",
       "  'sea_level': 1029,\n",
       "  'grnd_level': 887,\n",
       "  'humidity': 81,\n",
       "  'temp_kf': 0},\n",
       " 'weather': [{'id': 804,\n",
       "   'main': 'Clouds',\n",
       "   'description': 'overcast clouds',\n",
       "   'icon': '04n'}],\n",
       " 'clouds': {'all': 100},\n",
       " 'wind': {'speed': 3.21, 'deg': 288, 'gust': 4.04},\n",
       " 'visibility': 10000,\n",
       " 'pop': 0,\n",
       " 'sys': {'pod': 'n'},\n",
       " 'dt_txt': '2022-12-17 18:00:00'}"
      ]
     },
     "execution_count": 19,
     "metadata": {},
     "output_type": "execute_result"
    }
   ],
   "source": [
    "hope.iloc[0,3]"
   ]
  },
  {
   "cell_type": "code",
   "execution_count": 26,
   "id": "3a83884b",
   "metadata": {},
   "outputs": [
    {
     "data": {
      "text/html": [
       "<div>\n",
       "<style scoped>\n",
       "    .dataframe tbody tr th:only-of-type {\n",
       "        vertical-align: middle;\n",
       "    }\n",
       "\n",
       "    .dataframe tbody tr th {\n",
       "        vertical-align: top;\n",
       "    }\n",
       "\n",
       "    .dataframe thead th {\n",
       "        text-align: right;\n",
       "    }\n",
       "</style>\n",
       "<table border=\"1\" class=\"dataframe\">\n",
       "  <thead>\n",
       "    <tr style=\"text-align: right;\">\n",
       "      <th></th>\n",
       "      <th>id</th>\n",
       "      <th>main</th>\n",
       "      <th>description</th>\n",
       "      <th>icon</th>\n",
       "    </tr>\n",
       "  </thead>\n",
       "  <tbody>\n",
       "    <tr>\n",
       "      <th>0</th>\n",
       "      <td>804</td>\n",
       "      <td>Clouds</td>\n",
       "      <td>overcast clouds</td>\n",
       "      <td>04n</td>\n",
       "    </tr>\n",
       "  </tbody>\n",
       "</table>\n",
       "</div>"
      ],
      "text/plain": [
       "    id    main      description icon\n",
       "0  804  Clouds  overcast clouds  04n"
      ]
     },
     "execution_count": 26,
     "metadata": {},
     "output_type": "execute_result"
    }
   ],
   "source": [
    "#retrieving weather information\n",
    "#https://openweathermap.org/current\n",
    "\n",
    "weather = pd.DataFrame(hope.iloc[0,3]['weather'])\n",
    "weather"
   ]
  },
  {
   "cell_type": "code",
   "execution_count": 35,
   "id": "b8567745",
   "metadata": {},
   "outputs": [
    {
     "data": {
      "text/html": [
       "<div>\n",
       "<style scoped>\n",
       "    .dataframe tbody tr th:only-of-type {\n",
       "        vertical-align: middle;\n",
       "    }\n",
       "\n",
       "    .dataframe tbody tr th {\n",
       "        vertical-align: top;\n",
       "    }\n",
       "\n",
       "    .dataframe thead th {\n",
       "        text-align: right;\n",
       "    }\n",
       "</style>\n",
       "<table border=\"1\" class=\"dataframe\">\n",
       "  <thead>\n",
       "    <tr style=\"text-align: right;\">\n",
       "      <th></th>\n",
       "      <th>temp</th>\n",
       "      <th>feels_like</th>\n",
       "      <th>temp_min</th>\n",
       "      <th>temp_max</th>\n",
       "      <th>pressure</th>\n",
       "      <th>sea_level</th>\n",
       "      <th>grnd_level</th>\n",
       "      <th>humidity</th>\n",
       "      <th>temp_kf</th>\n",
       "    </tr>\n",
       "  </thead>\n",
       "  <tbody>\n",
       "    <tr>\n",
       "      <th>0</th>\n",
       "      <td>256.54</td>\n",
       "      <td>249.54</td>\n",
       "      <td>256.54</td>\n",
       "      <td>256.54</td>\n",
       "      <td>1029</td>\n",
       "      <td>1029</td>\n",
       "      <td>887</td>\n",
       "      <td>81</td>\n",
       "      <td>0</td>\n",
       "    </tr>\n",
       "  </tbody>\n",
       "</table>\n",
       "</div>"
      ],
      "text/plain": [
       "     temp  feels_like  temp_min  temp_max  pressure  sea_level  grnd_level  \\\n",
       "0  256.54      249.54    256.54    256.54      1029       1029         887   \n",
       "\n",
       "   humidity  temp_kf  \n",
       "0        81        0  "
      ]
     },
     "execution_count": 35,
     "metadata": {},
     "output_type": "execute_result"
    }
   ],
   "source": [
    "#retrieving temperature information\n",
    "temps = pd.DataFrame([hope.iloc[0,3]['main']])\n",
    "temps"
   ]
  },
  {
   "cell_type": "code",
   "execution_count": 37,
   "id": "338ccfb9",
   "metadata": {},
   "outputs": [
    {
     "data": {
      "text/plain": [
       "10000"
      ]
     },
     "execution_count": 37,
     "metadata": {},
     "output_type": "execute_result"
    }
   ],
   "source": [
    "#retrieving visibility information\n",
    "hope.iloc[0,3]['visibility']"
   ]
  },
  {
   "cell_type": "code",
   "execution_count": 41,
   "id": "9366f4ec",
   "metadata": {},
   "outputs": [
    {
     "data": {
      "text/html": [
       "<div>\n",
       "<style scoped>\n",
       "    .dataframe tbody tr th:only-of-type {\n",
       "        vertical-align: middle;\n",
       "    }\n",
       "\n",
       "    .dataframe tbody tr th {\n",
       "        vertical-align: top;\n",
       "    }\n",
       "\n",
       "    .dataframe thead th {\n",
       "        text-align: right;\n",
       "    }\n",
       "</style>\n",
       "<table border=\"1\" class=\"dataframe\">\n",
       "  <thead>\n",
       "    <tr style=\"text-align: right;\">\n",
       "      <th></th>\n",
       "      <th>speed</th>\n",
       "      <th>deg</th>\n",
       "      <th>gust</th>\n",
       "    </tr>\n",
       "  </thead>\n",
       "  <tbody>\n",
       "    <tr>\n",
       "      <th>0</th>\n",
       "      <td>3.21</td>\n",
       "      <td>288</td>\n",
       "      <td>4.04</td>\n",
       "    </tr>\n",
       "  </tbody>\n",
       "</table>\n",
       "</div>"
      ],
      "text/plain": [
       "   speed  deg  gust\n",
       "0   3.21  288  4.04"
      ]
     },
     "execution_count": 41,
     "metadata": {},
     "output_type": "execute_result"
    }
   ],
   "source": [
    "#retrieving wind information\n",
    "wind = pd.DataFrame([hope.iloc[0,3]['wind']])\n",
    "wind"
   ]
  },
  {
   "cell_type": "code",
   "execution_count": 44,
   "id": "d044e099",
   "metadata": {},
   "outputs": [
    {
     "data": {
      "text/html": [
       "<div>\n",
       "<style scoped>\n",
       "    .dataframe tbody tr th:only-of-type {\n",
       "        vertical-align: middle;\n",
       "    }\n",
       "\n",
       "    .dataframe tbody tr th {\n",
       "        vertical-align: top;\n",
       "    }\n",
       "\n",
       "    .dataframe thead th {\n",
       "        text-align: right;\n",
       "    }\n",
       "</style>\n",
       "<table border=\"1\" class=\"dataframe\">\n",
       "  <thead>\n",
       "    <tr style=\"text-align: right;\">\n",
       "      <th></th>\n",
       "      <th>all</th>\n",
       "    </tr>\n",
       "  </thead>\n",
       "  <tbody>\n",
       "    <tr>\n",
       "      <th>0</th>\n",
       "      <td>100</td>\n",
       "    </tr>\n",
       "  </tbody>\n",
       "</table>\n",
       "</div>"
      ],
      "text/plain": [
       "   all\n",
       "0  100"
      ]
     },
     "execution_count": 44,
     "metadata": {},
     "output_type": "execute_result"
    }
   ],
   "source": [
    "#retrieving wind information\n",
    "clouds = pd.DataFrame([hope.iloc[0,3]['clouds']])\n",
    "clouds"
   ]
  },
  {
   "cell_type": "code",
   "execution_count": 46,
   "id": "af371c13",
   "metadata": {},
   "outputs": [
    {
     "ename": "KeyError",
     "evalue": "'snow'",
     "output_type": "error",
     "traceback": [
      "\u001b[0;31m---------------------------------------------------------------------------\u001b[0m",
      "\u001b[0;31mKeyError\u001b[0m                                  Traceback (most recent call last)",
      "Input \u001b[0;32mIn [46]\u001b[0m, in \u001b[0;36m<cell line: 2>\u001b[0;34m()\u001b[0m\n\u001b[1;32m      1\u001b[0m \u001b[38;5;66;03m#retrieving rain information\u001b[39;00m\n\u001b[0;32m----> 2\u001b[0m rain \u001b[38;5;241m=\u001b[39m pd\u001b[38;5;241m.\u001b[39mDataFrame([\u001b[43mhope\u001b[49m\u001b[38;5;241;43m.\u001b[39;49m\u001b[43miloc\u001b[49m\u001b[43m[\u001b[49m\u001b[38;5;241;43m0\u001b[39;49m\u001b[43m,\u001b[49m\u001b[38;5;241;43m3\u001b[39;49m\u001b[43m]\u001b[49m\u001b[43m[\u001b[49m\u001b[38;5;124;43m'\u001b[39;49m\u001b[38;5;124;43msnow\u001b[39;49m\u001b[38;5;124;43m'\u001b[39;49m\u001b[43m]\u001b[49m])\n\u001b[1;32m      3\u001b[0m rain\n",
      "\u001b[0;31mKeyError\u001b[0m: 'snow'"
     ]
    }
   ],
   "source": [
    "#retrieving rain information\n",
    "rain = pd.DataFrame([hope.iloc[0,3]['snow']])\n",
    "rain"
   ]
  }
 ],
 "metadata": {
  "kernelspec": {
   "display_name": "Python 3 (ipykernel)",
   "language": "python",
   "name": "python3"
  },
  "language_info": {
   "codemirror_mode": {
    "name": "ipython",
    "version": 3
   },
   "file_extension": ".py",
   "mimetype": "text/x-python",
   "name": "python",
   "nbconvert_exporter": "python",
   "pygments_lexer": "ipython3",
   "version": "3.9.12"
  }
 },
 "nbformat": 4,
 "nbformat_minor": 5
}
