{
 "cells": [
  {
   "cell_type": "code",
   "execution_count": null,
   "id": "dceafc13-2bfc-4984-87f3-b54a224ec20f",
   "metadata": {},
   "outputs": [],
   "source": []
  }
 ],
 "metadata": {
  "kernelspec": {
   "display_name": "",
   "name": ""
  },
  "language_info": {
   "name": ""
  }
 },
 "nbformat": 4,
 "nbformat_minor": 5
}
